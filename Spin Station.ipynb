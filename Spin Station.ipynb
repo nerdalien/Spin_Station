{
 "cells": [
  {
   "cell_type": "markdown",
   "metadata": {},
   "source": [
    "# Spin Station Parameters\n",
    "\n",
    "### Here you will find the tools to determine the radius, surface area, angle of inclination, and tangential speed of a rotating habitat that requires supplemental gravity (given the maximum allowed angular velocity, width, and existing gravity).\n",
    "\n",
    "### Functions\n",
    "    - radius_speed\n",
    "    - find_angle\n",
    "    - surface_area"
   ]
  },
  {
   "cell_type": "code",
   "execution_count": 1,
   "metadata": {},
   "outputs": [],
   "source": [
    "import math"
   ]
  },
  {
   "cell_type": "code",
   "execution_count": 16,
   "metadata": {},
   "outputs": [],
   "source": [
    "def radius_speed(gravity, velocity = 2.0, tier = False):\n",
    "    \"\"\"\n",
    "    Objective: Calculate the speed of the spin station given the radius and existing gravity.\n",
    "    Parameters:\n",
    "        -gravity: [float] gravity (in Earth units) of planetary body\n",
    "        -velocity: [float] angular velocity (in revolutions per minute) of spin habitat\n",
    "        -tier: [boolean] whether function is nested or not\n",
    "    Returns:\n",
    "        -radius: [float] radius (in meters) of the spin habitat\n",
    "        -speed: [float] tangential speed (in meters per second) of spin habitat inner radius\n",
    "    \"\"\"\n",
    "    if gravity > 0.99:\n",
    "        print(\"Supplemental gravity on a spin station is unnecessary at this point.\")\n",
    "        return\n",
    "    outward = math.sqrt(1 - gravity**2)\n",
    "    radius = math.floor(100 * outward*9.81 / (velocity/9.5493)**2) / 100\n",
    "    speed = math.floor(100 * outward*9.81 / (velocity/9.5493)) / 100\n",
    "    if tier == False:\n",
    "        print(\"The spin station will have a radius of \"+str(radius)+\" meters and spin at \"+str(speed)+\n",
    "              \" meters per second.\")\n",
    "    return radius, speed"
   ]
  },
  {
   "cell_type": "code",
   "execution_count": 13,
   "metadata": {},
   "outputs": [],
   "source": [
    "def find_angle(gravity, tier = False):\n",
    "    \"\"\"\n",
    "    Objective: Determine the required angle to create supplemental gravity equivalent to the Earth's.\n",
    "    Parameters:\n",
    "        -gravity: [float] acceleration due to existing gravity (in Earth units)\n",
    "        -tier: [boolean] whether function is nested or not\n",
    "    Returns:\n",
    "        -angle: [float] angle of spin station inclination (in degrees)\n",
    "    \"\"\"\n",
    "    if gravity > 0.99:\n",
    "        print(\"Supplemental gravity on a spin station is unnecessary at this point.\")\n",
    "        return\n",
    "    angle = math.floor(100 * math.degrees(math.acos(gravity))) / 100\n",
    "    if tier == False:\n",
    "        print(\"The spin station will have its floors inclined at an angle of \"+str(angle)+\" degrees.\")\n",
    "    return angle"
   ]
  },
  {
   "cell_type": "code",
   "execution_count": 22,
   "metadata": {},
   "outputs": [],
   "source": [
    "def surface_area(gravity, width, radius = 0, velocity = 2.0):\n",
    "    \"\"\"\n",
    "    Objective: Calculate the surface area of the spin station floor.\n",
    "    Parameters:\n",
    "        -gravity: [float] gravity (in Earth units, 2 significant figures) of planetary body\n",
    "        -width: [float] width (in meters) of spin habitat\n",
    "        -radius: [float] preassigned radius of spin station (in meters), default \n",
    "        -velocity: [float] angular velocity (in revolutions per minute) of spin habitat\n",
    "    Returns:\n",
    "        -area: [float] surface area of spin station floor\n",
    "    \"\"\"\n",
    "    angle = find_angle(gravity, True)\n",
    "    \n",
    "    if radius == 0:\n",
    "        radius1, speed = radius_speed(gravity, velocity, True)\n",
    "    else:\n",
    "        radius1 = radius\n",
    "    \n",
    "    radius2 = radius1 + (width * math.cos(math.radians(angle)))\n",
    "    \n",
    "    height1 = radius1 * math.tan(math.radians(angle))\n",
    "    height2 = radius1 * math.tan(math.radians(angle))\n",
    "    \n",
    "    area1 = (math.pi * radius1 * (radius1 + math.sqrt(height1**2 + radius1**2))) - (math.pi * radius1**2)\n",
    "    area2 = (math.pi * radius2 * (radius2 + math.sqrt(height2**2 + radius2**2))) - (math.pi * radius2**2)\n",
    "    area = math.floor(100 * (area2 - area1)) / 100\n",
    "    \n",
    "    print(\"The spin station has a floor surface area of \"+str(area)+\" square meters.\")\n",
    "    return area"
   ]
  }
 ],
 "metadata": {
  "kernelspec": {
   "display_name": "Python 3",
   "language": "python",
   "name": "python3"
  },
  "language_info": {
   "codemirror_mode": {
    "name": "ipython",
    "version": 3
   },
   "file_extension": ".py",
   "mimetype": "text/x-python",
   "name": "python",
   "nbconvert_exporter": "python",
   "pygments_lexer": "ipython3",
   "version": "3.7.6"
  }
 },
 "nbformat": 4,
 "nbformat_minor": 2
}
